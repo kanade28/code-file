{
 "cells": [
  {
   "cell_type": "code",
   "execution_count": 64,
   "id": "8647e0f5",
   "metadata": {},
   "outputs": [],
   "source": [
    "import pandas as pd"
   ]
  },
  {
   "cell_type": "code",
   "execution_count": 77,
   "id": "d2b49d08",
   "metadata": {},
   "outputs": [],
   "source": [
    "movies=pd.read_csv(r\"C:\\Users\\DELL\\Downloads\\archive (1)\\movies.csv\")\n",
    "ratings=pd.read_csv(r\"C:\\Users\\DELL\\Downloads\\archive (1)\\ratings.csv\")"
   ]
  },
  {
   "cell_type": "code",
   "execution_count": 66,
   "id": "7220da8e",
   "metadata": {},
   "outputs": [
    {
     "data": {
      "text/html": [
       "<div>\n",
       "<style scoped>\n",
       "    .dataframe tbody tr th:only-of-type {\n",
       "        vertical-align: middle;\n",
       "    }\n",
       "\n",
       "    .dataframe tbody tr th {\n",
       "        vertical-align: top;\n",
       "    }\n",
       "\n",
       "    .dataframe thead th {\n",
       "        text-align: right;\n",
       "    }\n",
       "</style>\n",
       "<table border=\"1\" class=\"dataframe\">\n",
       "  <thead>\n",
       "    <tr style=\"text-align: right;\">\n",
       "      <th></th>\n",
       "      <th>movieId</th>\n",
       "      <th>title</th>\n",
       "      <th>genres</th>\n",
       "    </tr>\n",
       "  </thead>\n",
       "  <tbody>\n",
       "    <tr>\n",
       "      <th>0</th>\n",
       "      <td>1</td>\n",
       "      <td>Toy Story (1995)</td>\n",
       "      <td>Adventure|Animation|Children|Comedy|Fantasy</td>\n",
       "    </tr>\n",
       "    <tr>\n",
       "      <th>1</th>\n",
       "      <td>2</td>\n",
       "      <td>Jumanji (1995)</td>\n",
       "      <td>Adventure|Children|Fantasy</td>\n",
       "    </tr>\n",
       "    <tr>\n",
       "      <th>2</th>\n",
       "      <td>3</td>\n",
       "      <td>Grumpier Old Men (1995)</td>\n",
       "      <td>Comedy|Romance</td>\n",
       "    </tr>\n",
       "    <tr>\n",
       "      <th>3</th>\n",
       "      <td>4</td>\n",
       "      <td>Waiting to Exhale (1995)</td>\n",
       "      <td>Comedy|Drama|Romance</td>\n",
       "    </tr>\n",
       "    <tr>\n",
       "      <th>4</th>\n",
       "      <td>5</td>\n",
       "      <td>Father of the Bride Part II (1995)</td>\n",
       "      <td>Comedy</td>\n",
       "    </tr>\n",
       "  </tbody>\n",
       "</table>\n",
       "</div>"
      ],
      "text/plain": [
       "   movieId                               title  \\\n",
       "0        1                    Toy Story (1995)   \n",
       "1        2                      Jumanji (1995)   \n",
       "2        3             Grumpier Old Men (1995)   \n",
       "3        4            Waiting to Exhale (1995)   \n",
       "4        5  Father of the Bride Part II (1995)   \n",
       "\n",
       "                                        genres  \n",
       "0  Adventure|Animation|Children|Comedy|Fantasy  \n",
       "1                   Adventure|Children|Fantasy  \n",
       "2                               Comedy|Romance  \n",
       "3                         Comedy|Drama|Romance  \n",
       "4                                       Comedy  "
      ]
     },
     "execution_count": 66,
     "metadata": {},
     "output_type": "execute_result"
    }
   ],
   "source": [
    "movies.head()"
   ]
  },
  {
   "cell_type": "code",
   "execution_count": 67,
   "id": "61404280",
   "metadata": {},
   "outputs": [
    {
     "data": {
      "text/html": [
       "<div>\n",
       "<style scoped>\n",
       "    .dataframe tbody tr th:only-of-type {\n",
       "        vertical-align: middle;\n",
       "    }\n",
       "\n",
       "    .dataframe tbody tr th {\n",
       "        vertical-align: top;\n",
       "    }\n",
       "\n",
       "    .dataframe thead th {\n",
       "        text-align: right;\n",
       "    }\n",
       "</style>\n",
       "<table border=\"1\" class=\"dataframe\">\n",
       "  <thead>\n",
       "    <tr style=\"text-align: right;\">\n",
       "      <th></th>\n",
       "      <th>userId</th>\n",
       "      <th>movieId</th>\n",
       "      <th>rating</th>\n",
       "      <th>timestamp</th>\n",
       "    </tr>\n",
       "  </thead>\n",
       "  <tbody>\n",
       "    <tr>\n",
       "      <th>0</th>\n",
       "      <td>1</td>\n",
       "      <td>1</td>\n",
       "      <td>4.0</td>\n",
       "      <td>964982703</td>\n",
       "    </tr>\n",
       "    <tr>\n",
       "      <th>1</th>\n",
       "      <td>1</td>\n",
       "      <td>3</td>\n",
       "      <td>4.0</td>\n",
       "      <td>964981247</td>\n",
       "    </tr>\n",
       "    <tr>\n",
       "      <th>2</th>\n",
       "      <td>1</td>\n",
       "      <td>6</td>\n",
       "      <td>4.0</td>\n",
       "      <td>964982224</td>\n",
       "    </tr>\n",
       "    <tr>\n",
       "      <th>3</th>\n",
       "      <td>1</td>\n",
       "      <td>47</td>\n",
       "      <td>5.0</td>\n",
       "      <td>964983815</td>\n",
       "    </tr>\n",
       "    <tr>\n",
       "      <th>4</th>\n",
       "      <td>1</td>\n",
       "      <td>50</td>\n",
       "      <td>5.0</td>\n",
       "      <td>964982931</td>\n",
       "    </tr>\n",
       "  </tbody>\n",
       "</table>\n",
       "</div>"
      ],
      "text/plain": [
       "   userId  movieId  rating  timestamp\n",
       "0       1        1     4.0  964982703\n",
       "1       1        3     4.0  964981247\n",
       "2       1        6     4.0  964982224\n",
       "3       1       47     5.0  964983815\n",
       "4       1       50     5.0  964982931"
      ]
     },
     "execution_count": 67,
     "metadata": {},
     "output_type": "execute_result"
    }
   ],
   "source": [
    "ratings.head()"
   ]
  },
  {
   "cell_type": "code",
   "execution_count": 68,
   "id": "dd2ba502",
   "metadata": {},
   "outputs": [],
   "source": [
    "# Calculate average rating for each movie\n",
    "movie_ratings = ratings.groupby('movieId')['rating'].mean().reset_index()"
   ]
  },
  {
   "cell_type": "code",
   "execution_count": 69,
   "id": "796dc626",
   "metadata": {},
   "outputs": [],
   "source": [
    "# Merge with movie titles\n",
    "popularity_df = pd.merge(movie_ratings, movies[['movieId', 'title']], on='movieId', how='left')"
   ]
  },
  {
   "cell_type": "code",
   "execution_count": 70,
   "id": "856d79a4",
   "metadata": {},
   "outputs": [],
   "source": [
    "# Sort by average rating in descending order\n",
    "popularity_df = popularity_df.sort_values(by='rating', ascending=False)"
   ]
  },
  {
   "cell_type": "code",
   "execution_count": 71,
   "id": "4c6dcf9a",
   "metadata": {},
   "outputs": [
    {
     "name": "stdout",
     "output_type": "stream",
     "text": [
      "Top 10 Popular Movies:\n",
      "                                          title  rating\n",
      "7638      Paper Birds (Pájaros de papel) (2010)     5.0\n",
      "8089                 Act of Killing, The (2012)     5.0\n",
      "9065                            Jump In! (2007)     5.0\n",
      "9076                               Human (2015)     5.0\n",
      "9078                        L.A. Slasher (2015)     5.0\n",
      "4245                           Lady Jane (1986)     5.0\n",
      "8136             Bill Hicks: Revelations (1993)     5.0\n",
      "8130               Justice League: Doom (2012)      5.0\n",
      "4240  Open Hearts (Elsker dig for evigt) (2002)     5.0\n",
      "9104                     Formula of Love (1984)     5.0\n"
     ]
    }
   ],
   "source": [
    "# Display top N popular movies\n",
    "top_n = 10\n",
    "top_movies = popularity_df.head(top_n)\n",
    "print(f\"Top {top_n} Popular Movies:\")\n",
    "print(top_movies[['title', 'rating']])"
   ]
  },
  {
   "cell_type": "markdown",
   "id": "97c49ec8",
   "metadata": {},
   "source": [
    "## Content Base"
   ]
  },
  {
   "cell_type": "code",
   "execution_count": 72,
   "id": "4405095e",
   "metadata": {},
   "outputs": [],
   "source": [
    "from sklearn.feature_extraction.text import TfidfVectorizer\n",
    "from sklearn.metrics.pairwise import linear_kernel\n"
   ]
  },
  {
   "cell_type": "code",
   "execution_count": 73,
   "id": "fe57790f",
   "metadata": {},
   "outputs": [],
   "source": [
    "# Create a TF-IDF vectorizer\n",
    "tfidf_vectorizer = TfidfVectorizer(stop_words='english')\n",
    "tfidf_matrix = tfidf_vectorizer.fit_transform(movies['genres'].fillna(''))"
   ]
  },
  {
   "cell_type": "code",
   "execution_count": 74,
   "id": "91a7ff00",
   "metadata": {},
   "outputs": [],
   "source": [
    "# Calculate cosine similarity\n",
    "cosine_sim = linear_kernel(tfidf_matrix, tfidf_matrix)"
   ]
  },
  {
   "cell_type": "code",
   "execution_count": 75,
   "id": "e3b4591e",
   "metadata": {},
   "outputs": [],
   "source": [
    "def content_based_recommendations(movie_title, cosine_sim=cosine_sim, movies=movies):\n",
    "    # Check if the movie title exists in the dataset\n",
    "    if movie_title not in movies['title'].values:\n",
    "        return f\"Movie '{movie_title}' not found in the dataset.\"\n",
    "\n",
    "    idx = movies.index[movies['title'] == movie_title].tolist()\n",
    "    \n",
    "    # Check if the movie title was found\n",
    "    if not idx:\n",
    "        return f\"Movie '{movie_title}' not found in the dataset.\"\n",
    "    \n",
    "    idx = movies.index[movies['title'] == movie_title].tolist()\n",
    "\n",
    "    idx = idx[0]\n",
    "    sim_scores = list(enumerate(cosine_sim[idx]))\n",
    "    sim_scores = sorted(sim_scores, key=lambda x: x[1], reverse=True)\n",
    "    sim_scores = sim_scores[1:11]  # Top 10 similar movies\n",
    "    movie_indices = [i[0] for i in sim_scores]\n",
    "    return movies['title'].iloc[movie_indices]"
   ]
  },
  {
   "cell_type": "code",
   "execution_count": 79,
   "id": "42d52112",
   "metadata": {},
   "outputs": [
    {
     "name": "stdout",
     "output_type": "stream",
     "text": [
      "\n",
      "Content-Based Recommendations for 'Dark Knight, The (2008)':\n",
      "8387                                Need for Speed (2014)\n",
      "5917                                 Batman Begins (2005)\n",
      "7599       Fast Five (Fast and the Furious 5, The) (2011)\n",
      "6852                                     Eagle Eye (2008)\n",
      "8103                       Good Day to Die Hard, A (2013)\n",
      "8166    Fast & Furious 6 (Fast and the Furious 6, The)...\n",
      "8149            Grandmaster, The (Yi dai zong shi) (2013)\n",
      "7768                        Dark Knight Rises, The (2012)\n",
      "8233                                Man of Tai Chi (2013)\n",
      "8201                              White House Down (2013)\n",
      "Name: title, dtype: object\n"
     ]
    }
   ],
   "source": [
    "# Test the content-based recommender\n",
    "movie_title = 'Dark Knight, The (2008)'\n",
    "content_recommendations = content_based_recommendations(movie_title)\n",
    "print(f\"\\nContent-Based Recommendations for '{movie_title}':\")\n",
    "print(content_recommendations)"
   ]
  },
  {
   "cell_type": "code",
   "execution_count": null,
   "id": "b135ee57",
   "metadata": {},
   "outputs": [],
   "source": []
  }
 ],
 "metadata": {
  "kernelspec": {
   "display_name": "Python 3 (ipykernel)",
   "language": "python",
   "name": "python3"
  },
  "language_info": {
   "codemirror_mode": {
    "name": "ipython",
    "version": 3
   },
   "file_extension": ".py",
   "mimetype": "text/x-python",
   "name": "python",
   "nbconvert_exporter": "python",
   "pygments_lexer": "ipython3",
   "version": "3.11.5"
  }
 },
 "nbformat": 4,
 "nbformat_minor": 5
}
