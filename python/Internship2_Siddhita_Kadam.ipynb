{
 "cells": [
  {
   "cell_type": "markdown",
   "id": "0eca7073",
   "metadata": {},
   "source": [
    "# Plot a chart ggplot in Python that illustrates Attrition numbers by the Recruiting Source."
   ]
  },
  {
   "cell_type": "code",
   "execution_count": 2,
   "id": "01010dc3",
   "metadata": {},
   "outputs": [
    {
     "name": "stdout",
     "output_type": "stream",
     "text": [
      "Requirement already satisfied: ggplot in c:\\users\\hp\\anaconda3\\lib\\site-packages (0.11.5)\n",
      "Requirement already satisfied: statsmodels in c:\\users\\hp\\anaconda3\\lib\\site-packages (from ggplot) (0.13.2)\n",
      "Requirement already satisfied: brewer2mpl in c:\\users\\hp\\anaconda3\\lib\\site-packages (from ggplot) (1.4.1)\n",
      "Requirement already satisfied: cycler in c:\\users\\hp\\anaconda3\\lib\\site-packages (from ggplot) (0.11.0)\n",
      "Requirement already satisfied: matplotlib in c:\\users\\hp\\anaconda3\\lib\\site-packages (from ggplot) (3.5.1)\n",
      "Requirement already satisfied: patsy>=0.4 in c:\\users\\hp\\anaconda3\\lib\\site-packages (from ggplot) (0.5.2)\n",
      "Requirement already satisfied: scipy in c:\\users\\hp\\anaconda3\\lib\\site-packages (from ggplot) (1.7.3)\n",
      "Requirement already satisfied: six in c:\\users\\hp\\anaconda3\\lib\\site-packages (from ggplot) (1.16.0)\n",
      "Requirement already satisfied: pandas in c:\\users\\hp\\anaconda3\\lib\\site-packages (from ggplot) (1.4.2)\n",
      "Requirement already satisfied: numpy in c:\\users\\hp\\anaconda3\\lib\\site-packages (from ggplot) (1.21.5)\n",
      "Requirement already satisfied: packaging>=20.0 in c:\\users\\hp\\anaconda3\\lib\\site-packages (from matplotlib->ggplot) (21.3)\n",
      "Requirement already satisfied: kiwisolver>=1.0.1 in c:\\users\\hp\\anaconda3\\lib\\site-packages (from matplotlib->ggplot) (1.3.2)\n",
      "Requirement already satisfied: fonttools>=4.22.0 in c:\\users\\hp\\anaconda3\\lib\\site-packages (from matplotlib->ggplot) (4.25.0)\n",
      "Requirement already satisfied: pillow>=6.2.0 in c:\\users\\hp\\anaconda3\\lib\\site-packages (from matplotlib->ggplot) (9.0.1)\n",
      "Requirement already satisfied: pyparsing>=2.2.1 in c:\\users\\hp\\anaconda3\\lib\\site-packages (from matplotlib->ggplot) (3.0.4)\n",
      "Requirement already satisfied: python-dateutil>=2.7 in c:\\users\\hp\\anaconda3\\lib\\site-packages (from matplotlib->ggplot) (2.8.2)\n",
      "Requirement already satisfied: pytz>=2020.1 in c:\\users\\hp\\anaconda3\\lib\\site-packages (from pandas->ggplot) (2021.3)\n",
      "Note: you may need to restart the kernel to use updated packages.\n"
     ]
    }
   ],
   "source": [
    "pip install ggplot"
   ]
  },
  {
   "cell_type": "code",
   "execution_count": 3,
   "id": "7280c90d",
   "metadata": {},
   "outputs": [],
   "source": [
    "import pandas as pd"
   ]
  },
  {
   "cell_type": "code",
   "execution_count": 4,
   "id": "58ee967c",
   "metadata": {},
   "outputs": [
    {
     "data": {
      "text/html": [
       "<div>\n",
       "<style scoped>\n",
       "    .dataframe tbody tr th:only-of-type {\n",
       "        vertical-align: middle;\n",
       "    }\n",
       "\n",
       "    .dataframe tbody tr th {\n",
       "        vertical-align: top;\n",
       "    }\n",
       "\n",
       "    .dataframe thead th {\n",
       "        text-align: right;\n",
       "    }\n",
       "</style>\n",
       "<table border=\"1\" class=\"dataframe\">\n",
       "  <thead>\n",
       "    <tr style=\"text-align: right;\">\n",
       "      <th></th>\n",
       "      <th>attrition</th>\n",
       "      <th>performance_rating</th>\n",
       "      <th>sales_quota_pct</th>\n",
       "      <th>recruiting_source</th>\n",
       "    </tr>\n",
       "  </thead>\n",
       "  <tbody>\n",
       "    <tr>\n",
       "      <th>0</th>\n",
       "      <td>1</td>\n",
       "      <td>3</td>\n",
       "      <td>1.088190</td>\n",
       "      <td>Applied Online</td>\n",
       "    </tr>\n",
       "    <tr>\n",
       "      <th>1</th>\n",
       "      <td>0</td>\n",
       "      <td>3</td>\n",
       "      <td>2.394173</td>\n",
       "      <td>NaN</td>\n",
       "    </tr>\n",
       "    <tr>\n",
       "      <th>2</th>\n",
       "      <td>1</td>\n",
       "      <td>2</td>\n",
       "      <td>0.497530</td>\n",
       "      <td>Campus</td>\n",
       "    </tr>\n",
       "    <tr>\n",
       "      <th>3</th>\n",
       "      <td>0</td>\n",
       "      <td>2</td>\n",
       "      <td>2.513958</td>\n",
       "      <td>NaN</td>\n",
       "    </tr>\n",
       "    <tr>\n",
       "      <th>4</th>\n",
       "      <td>0</td>\n",
       "      <td>3</td>\n",
       "      <td>1.424789</td>\n",
       "      <td>Applied Online</td>\n",
       "    </tr>\n",
       "    <tr>\n",
       "      <th>...</th>\n",
       "      <td>...</td>\n",
       "      <td>...</td>\n",
       "      <td>...</td>\n",
       "      <td>...</td>\n",
       "    </tr>\n",
       "    <tr>\n",
       "      <th>441</th>\n",
       "      <td>0</td>\n",
       "      <td>3</td>\n",
       "      <td>1.627813</td>\n",
       "      <td>Campus</td>\n",
       "    </tr>\n",
       "    <tr>\n",
       "      <th>442</th>\n",
       "      <td>1</td>\n",
       "      <td>4</td>\n",
       "      <td>0.689682</td>\n",
       "      <td>Referral</td>\n",
       "    </tr>\n",
       "    <tr>\n",
       "      <th>443</th>\n",
       "      <td>0</td>\n",
       "      <td>4</td>\n",
       "      <td>1.196198</td>\n",
       "      <td>NaN</td>\n",
       "    </tr>\n",
       "    <tr>\n",
       "      <th>444</th>\n",
       "      <td>0</td>\n",
       "      <td>4</td>\n",
       "      <td>1.598213</td>\n",
       "      <td>Applied Online</td>\n",
       "    </tr>\n",
       "    <tr>\n",
       "      <th>445</th>\n",
       "      <td>0</td>\n",
       "      <td>2</td>\n",
       "      <td>0.582642</td>\n",
       "      <td>NaN</td>\n",
       "    </tr>\n",
       "  </tbody>\n",
       "</table>\n",
       "<p>446 rows × 4 columns</p>\n",
       "</div>"
      ],
      "text/plain": [
       "     attrition  performance_rating  sales_quota_pct recruiting_source\n",
       "0            1                   3         1.088190    Applied Online\n",
       "1            0                   3         2.394173               NaN\n",
       "2            1                   2         0.497530            Campus\n",
       "3            0                   2         2.513958               NaN\n",
       "4            0                   3         1.424789    Applied Online\n",
       "..         ...                 ...              ...               ...\n",
       "441          0                   3         1.627813            Campus\n",
       "442          1                   4         0.689682          Referral\n",
       "443          0                   4         1.196198               NaN\n",
       "444          0                   4         1.598213    Applied Online\n",
       "445          0                   2         0.582642               NaN\n",
       "\n",
       "[446 rows x 4 columns]"
      ]
     },
     "execution_count": 4,
     "metadata": {},
     "output_type": "execute_result"
    }
   ],
   "source": [
    "df = pd.read_csv('C:\\\\Users\\HP\\\\Downloads\\\\Dataset\\\\Recruitment_Data (1).csv')\n",
    "df"
   ]
  },
  {
   "cell_type": "code",
   "execution_count": 5,
   "id": "99fc75b1",
   "metadata": {},
   "outputs": [
    {
     "name": "stdout",
     "output_type": "stream",
     "text": [
      "Requirement already satisfied: pandas in c:\\users\\hp\\anaconda3\\lib\\site-packages (1.4.2)\n",
      "Requirement already satisfied: plotnine in c:\\users\\hp\\anaconda3\\lib\\site-packages (0.10.1)\n",
      "Requirement already satisfied: python-dateutil>=2.8.1 in c:\\users\\hp\\anaconda3\\lib\\site-packages (from pandas) (2.8.2)\n",
      "Requirement already satisfied: pytz>=2020.1 in c:\\users\\hp\\anaconda3\\lib\\site-packages (from pandas) (2021.3)\n",
      "Requirement already satisfied: numpy>=1.18.5 in c:\\users\\hp\\anaconda3\\lib\\site-packages (from pandas) (1.21.5)\n",
      "Requirement already satisfied: statsmodels>=0.13.2 in c:\\users\\hp\\anaconda3\\lib\\site-packages (from plotnine) (0.13.2)\n",
      "Requirement already satisfied: mizani>=0.8.1 in c:\\users\\hp\\anaconda3\\lib\\site-packages (from plotnine) (0.8.1)\n",
      "Requirement already satisfied: patsy>=0.5.1 in c:\\users\\hp\\anaconda3\\lib\\site-packages (from plotnine) (0.5.2)\n",
      "Requirement already satisfied: scipy>=1.5.0 in c:\\users\\hp\\anaconda3\\lib\\site-packages (from plotnine) (1.7.3)\n",
      "Requirement already satisfied: matplotlib>=3.5.0 in c:\\users\\hp\\anaconda3\\lib\\site-packages (from plotnine) (3.5.1)\n",
      "Requirement already satisfied: kiwisolver>=1.0.1 in c:\\users\\hp\\anaconda3\\lib\\site-packages (from matplotlib>=3.5.0->plotnine) (1.3.2)\n",
      "Requirement already satisfied: cycler>=0.10 in c:\\users\\hp\\anaconda3\\lib\\site-packages (from matplotlib>=3.5.0->plotnine) (0.11.0)\n",
      "Requirement already satisfied: fonttools>=4.22.0 in c:\\users\\hp\\anaconda3\\lib\\site-packages (from matplotlib>=3.5.0->plotnine) (4.25.0)\n",
      "Requirement already satisfied: packaging>=20.0 in c:\\users\\hp\\anaconda3\\lib\\site-packages (from matplotlib>=3.5.0->plotnine) (21.3)\n",
      "Requirement already satisfied: pyparsing>=2.2.1 in c:\\users\\hp\\anaconda3\\lib\\site-packages (from matplotlib>=3.5.0->plotnine) (3.0.4)\n",
      "Requirement already satisfied: pillow>=6.2.0 in c:\\users\\hp\\anaconda3\\lib\\site-packages (from matplotlib>=3.5.0->plotnine) (9.0.1)\n",
      "Requirement already satisfied: palettable in c:\\users\\hp\\anaconda3\\lib\\site-packages (from mizani>=0.8.1->plotnine) (3.3.0)\n",
      "Requirement already satisfied: tzdata in c:\\users\\hp\\anaconda3\\lib\\site-packages (from mizani>=0.8.1->plotnine) (2022.7)\n",
      "Requirement already satisfied: six in c:\\users\\hp\\anaconda3\\lib\\site-packages (from patsy>=0.5.1->plotnine) (1.16.0)\n"
     ]
    }
   ],
   "source": [
    "!pip install pandas plotnine"
   ]
  },
  {
   "cell_type": "code",
   "execution_count": 6,
   "id": "b5483044",
   "metadata": {},
   "outputs": [],
   "source": [
    "from plotnine import *"
   ]
  },
  {
   "cell_type": "code",
   "execution_count": 7,
   "id": "56655c4c",
   "metadata": {},
   "outputs": [
    {
     "data": {
      "image/png": "[encoded data removed]",
      "text/plain": [
       "<Figure size 640x480 with 1 Axes>"
      ]
     },
     "metadata": {},
     "output_type": "display_data"
    },
    {
     "data": {
      "text/plain": [
       "<ggplot: (167557755314)>"
      ]
     },
     "execution_count": 7,
     "metadata": {},
     "output_type": "execute_result"
    }
   ],
   "source": [
    "ggplot(df, aes(x='recruiting_source', y='attrition')) + \\\n",
    "    geom_bar(stat='identity', fill='grey') + \\\n",
    "    ggtitle('Attrition Numbers by Recruiting Source') + \\\n",
    "    xlab('recruiting_source') + ylab('attrition')"
   ]
  },
  {
   "cell_type": "code",
   "execution_count": null,
   "id": "78758b93",
   "metadata": {},
   "outputs": [],
   "source": [
    "# The resulting bar chart would show the number of employees who left the company for each recruiting source, \n",
    "# making it clear which sources have higher attrition rates. \n",
    "# This information can help stakeholders make decisions about which recruiting sources to focus on or adjust their recruiting strategies to reduce attrition. Additionally, the chart title,\n",
    "# x-axis label, and y-axis label provide context for the data being presented and help justify the decision to use this visualization."
   ]
  }
 ],
 "metadata": {
  "kernelspec": {
   "display_name": "Python 3 (ipykernel)",
   "language": "python",
   "name": "python3"
  },
  "language_info": {
   "codemirror_mode": {
    "name": "ipython",
    "version": 3
   },
   "file_extension": ".py",
   "mimetype": "text/x-python",
   "name": "python",
   "nbconvert_exporter": "python",
   "pygments_lexer": "ipython3",
   "version": "3.9.12"
  }
 },
 "nbformat": 4,
 "nbformat_minor": 5
}
